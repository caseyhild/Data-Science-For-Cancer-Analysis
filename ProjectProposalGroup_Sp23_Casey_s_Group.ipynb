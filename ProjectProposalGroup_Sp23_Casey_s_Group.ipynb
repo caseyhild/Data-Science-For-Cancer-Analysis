{
 "cells": [
  {
   "cell_type": "markdown",
   "metadata": {},
   "source": [
    "# COGS 108 - Final Project Proposal"
   ]
  },
  {
   "attachments": {},
   "cell_type": "markdown",
   "metadata": {},
   "source": [
    "# Names\n",
    "\n",
    "- Aasem Fituri\n",
    "- Casey Hild\n",
    "- Carlos van der Ley\n",
    "- Jeremy Quinto\n"
   ]
  },
  {
   "cell_type": "markdown",
   "metadata": {},
   "source": [
    "# Research Question"
   ]
  },
  {
   "attachments": {},
   "cell_type": "markdown",
   "metadata": {},
   "source": [
    "Can we find a correlation between cancer rates and socioeconomic status?  More specifically, how does income, education, and employment status affect cancer rates across the United States?\n",
    "\n"
   ]
  },
  {
   "cell_type": "markdown",
   "metadata": {},
   "source": [
    "## Background and Prior Work"
   ]
  },
  {
   "attachments": {},
   "cell_type": "markdown",
   "metadata": {},
   "source": [
    "\n",
    "Social factors are one aspect that have an effect on an individual’s health [1]. Some of these factors include education, employment status, income, and culture [1]. We seek to examine what role these social factors play with regards to cancer rates and cancer deaths.\n",
    "\n",
    "Some researchers have discussed the socioeconomic disparities in cancer screening participation, such as cervical and breast cancer screening. However, some cultural and economic barriers remain to be overcome. According to some studies, low-income and low-education women are less likely to participate in breast cancer screening than women from higher social levels. Similarly, women from low socioeconomic status had a higher risk of cervical cancer but lower Pap smear screening.[2]\n",
    "\n",
    "Other studies also discuss disparities in cancer incidence, mortality, and survival rates based on race/ethnicity and poverty levels in the county or census tract of residence, showing that more impoverished counties have higher death rates from cancer, and people living in more impoverished census tracts have lower five-year survival rates.[3]\n",
    "\n",
    "\n",
    "[1] https://www.cdc.gov/nchhstp/socialdeterminants/faq.html\n",
    "\n",
    "[2] https://acsjournals.onlinelibrary.wiley.com/doi/abs/10.3322/canjclin.54.2.78\n",
    "\n",
    "[3] https://europepmc.org/article/med/9353678\n"
   ]
  },
  {
   "cell_type": "markdown",
   "metadata": {},
   "source": [
    "# Hypothesis\n"
   ]
  },
  {
   "attachments": {},
   "cell_type": "markdown",
   "metadata": {},
   "source": [
    "We expect that lower socioeconomic status is correlated with a higher cancer rate and cancer deaths, as people in this group would have less disposable income and therefore less access to the necessary medical resources to mitigate the risks of cancer, such as medical screenings. Additionally, people with a lower level of education may not be fully aware of the risk factors of cancer and the implications of cancer."
   ]
  },
  {
   "cell_type": "markdown",
   "metadata": {},
   "source": [
    "# Data"
   ]
  },
  {
   "attachments": {},
   "cell_type": "markdown",
   "metadata": {},
   "source": [
    "The ideal dataset would have a list of many individuals (10,000+) with the relevant socio economic variables. These variables include education, income, cancer rates, death rates due to cancer, employment status, race, and possibly location. Ideally this dataset would be collected from the CDC, hospitals, and other public health institutions through surveys.This data would ideally be in a csv or json format so that it can easily be utilized without much effort.\n",
    "\n",
    "This dataset has information on cancer rates, income, education, poverty rates, and employment (among other variables) for counties in the US. \n",
    "https://www.kaggle.com/datasets/thedevastator/uncovering-trends-in-health-outcomes-and-socioec?select=cancer_reg.csv \n",
    "\n",
    "(original source found here: https://data.world/nrippner/cancer-trials)"
   ]
  },
  {
   "cell_type": "markdown",
   "metadata": {},
   "source": [
    "# Ethics & Privacy"
   ]
  },
  {
   "attachments": {},
   "cell_type": "markdown",
   "metadata": {},
   "source": [
    "The data is aggregate data for counties, so there is no data about individuals that would be a privacy issue.\n",
    "There seem to be no privacy issues with using this particular dataset in our own research project, we just have to make sure to credit the original authors in our research. \n",
    "The data was collected from the American Community Survey (census.gov), clinicaltrials.gov, and cancer.gov which seem to be reliable sources.\n",
    "This dataset is only looking at the United States, so any results we find cannot be generalized to a global population.\n",
    "The dataset has race as a variable, however, it only includes black, white, asian, and other as the possible values, meaning that many races could be grouped into the “other” category, potentially resulting in some type of bias with regards to race. Also a very large percentage of the data seems to come from people who are white.\n"
   ]
  },
  {
   "cell_type": "markdown",
   "metadata": {},
   "source": [
    "# Team Expectations "
   ]
  },
  {
   "attachments": {},
   "cell_type": "markdown",
   "metadata": {},
   "source": [
    "Each member of our group is expected to:\n",
    "\n",
    "* Contribute equally to the final project\n",
    "* Attend as many meetings as necessary\n",
    "* Communicate with others about the code they’ve written, as well as make the code clear, concise, and well-commented\n",
    "* Ask questions if confused\n",
    "* Complete their given tasks on time \n"
   ]
  },
  {
   "cell_type": "markdown",
   "metadata": {},
   "source": [
    "# Project Timeline Proposal"
   ]
  },
  {
   "attachments": {},
   "cell_type": "markdown",
   "metadata": {},
   "source": [
    "| Meeting Date  | Meeting Time| Completed Before Meeting  | Discuss at Meeting |\n",
    "|---|---|---|---|\n",
    "| 5/8  |  10 PM | Look over dataset | Discuss how we plan to clean data and organize the dataset | \n",
    "| 5/14  |  10 PM |  Clean/wrangle data | How we plan on doing EDA. What variables/graphs to consider | \n",
    "| 5/21  | 10 PM  | Come up with ideas of how to visualize data  | Discuss ideas as a group. Give members EDA tasks to get started with before next meeting.   |\n",
    "| 5/28  | 10 PM  | Begin EDA tasks. Have most visualizations ready. | Discuss finishing touches on EDA tasks/what needs to be improved. Discuss how analysis is to be performed.   |\n",
    "| 6/4  | 10 PM  | Begin performing analysis and writing results.| Discuss analysis and further steps to take. Edit any lacking portions.  |\n",
    "| 6/10  | 10 PM  | Finish analysis| Discuss conclusion and the final project as a whole. |\n",
    "| 6/16  | No meeting. Complete project before 11:59 PM  | NA | Turn in Final Project |"
   ]
  },
  {
   "cell_type": "code",
   "execution_count": null,
   "metadata": {},
   "outputs": [],
   "source": []
  }
 ],
 "metadata": {
  "kernelspec": {
   "display_name": "Python 3",
   "language": "python",
   "name": "python3"
  },
  "language_info": {
   "codemirror_mode": {
    "name": "ipython",
    "version": 3
   },
   "file_extension": ".py",
   "mimetype": "text/x-python",
   "name": "python",
   "nbconvert_exporter": "python",
   "pygments_lexer": "ipython3",
   "version": "3.10.11"
  }
 },
 "nbformat": 4,
 "nbformat_minor": 2
}
